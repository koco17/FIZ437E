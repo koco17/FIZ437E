{
 "cells": [
  {
   "cell_type": "code",
   "execution_count": 2,
   "id": "af35d06d-bf0b-4595-8b70-6ce1270ea509",
   "metadata": {},
   "outputs": [
    {
     "name": "stdout",
     "output_type": "stream",
     "text": [
      "Directory already exist, images will be written in same folder\n"
     ]
    }
   ],
   "source": [
    "import cv2\n",
    "\n",
    "import os,glob\n",
    "\n",
    "from os import listdir,makedirs\n",
    "\n",
    "from os.path import isfile,join\n",
    "srce = 'images/dolphins'\n",
    "dest = 'images/dolphins' \n",
    "try:\n",
    "    makedirs(dstpath)\n",
    "except:\n",
    "    print (\"Directory already exist, images will be written in same folder\")\n",
    "files = list(filter(lambda f: isfile(join(srce,f)), listdir(srce)))\n",
    "for image in files:\n",
    "    try:\n",
    "        img = cv2.imread(os.path.join(srce,image))\n",
    "        gray = cv2.cvtColor(img,cv2.COLOR_BGR2GRAY)\n",
    "        dstPath = join(dest,image)\n",
    "        cv2.imwrite(dstPath,gray)\n",
    "    except:\n",
    "        print (\"{} is not converted\".format(image))\n",
    "for fil in glob.glob(\"*.jpg\"):\n",
    "    try:\n",
    "        image = cv2.imread(fil) \n",
    "        gray_image = cv2.cvtColor(os.path.join(src,image), cv2.COLOR_BGR2GRAY)\n",
    "        cv2.imwrite(os.path.join(dest,fil),gray_image)\n",
    "    except:\n",
    "        print('{} is not converted')"
   ]
  }
 ],
 "metadata": {
  "kernelspec": {
   "display_name": "Python 3 (ipykernel)",
   "language": "python",
   "name": "python3"
  },
  "language_info": {
   "codemirror_mode": {
    "name": "ipython",
    "version": 3
   },
   "file_extension": ".py",
   "mimetype": "text/x-python",
   "name": "python",
   "nbconvert_exporter": "python",
   "pygments_lexer": "ipython3",
   "version": "3.9.7"
  }
 },
 "nbformat": 4,
 "nbformat_minor": 5
}
