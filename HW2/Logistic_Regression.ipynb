{
 "cells": [
  {
   "cell_type": "code",
   "execution_count": 1,
   "id": "89c3e9bb-f599-4e27-ba31-149ad042a14a",
   "metadata": {},
   "outputs": [],
   "source": [
    "import numpy as np\n",
    "import pandas as pd\n",
    "import matplotlib.pyplot as plt\n",
    "import seaborn as sns\n",
    "from matplotlib import image as mpimg\n",
    "from skimage.feature import hog\n",
    "import cv2, os, glob, math"
   ]
  },
  {
   "cell_type": "code",
   "execution_count": 2,
   "id": "bb0e91e0-cb1c-49d8-b5bd-8ab4b65688dc",
   "metadata": {},
   "outputs": [],
   "source": [
    "def create_data(filename, px):\n",
    "    data = []\n",
    "    for jpg in glob.glob(\"images/\" + filename + \"/*.jpg\"):\n",
    "        img = np.array(mpimg.imread(jpg))\n",
    "        img = cv2.resize(img, (px, px))\n",
    "        fd = hog(img)\n",
    "        data.append(fd)\n",
    "        \n",
    "    return data\n",
    "\n",
    "def data_split(rate, array):\n",
    "    l = len(array)\n",
    "    n_train = math.floor((1-rate) * l)\n",
    "    train = array[:n_train]\n",
    "    test = array[n_train:]\n",
    "    \n",
    "    return train, test\n",
    "\n",
    "def create_label(array, label1, label2):\n",
    "    l = len(array)\n",
    "    new_array = []\n",
    "    for i in range(l):\n",
    "        if i < l/2:\n",
    "            new_array.append(label1)\n",
    "        else:\n",
    "            new_array.append(label2)\n",
    "    \n",
    "    return new_array"
   ]
  },
  {
   "cell_type": "code",
   "execution_count": 3,
   "id": "6afc0c0f-9ccb-4054-a4f6-e7503640d60d",
   "metadata": {},
   "outputs": [],
   "source": [
    "data_tigers = create_data(\"tigers\", 64)[:500]\n",
    "data_dolphins = create_data(\"dolphins\", 64)[:500]"
   ]
  },
  {
   "cell_type": "code",
   "execution_count": 4,
   "id": "0db80220-c8f0-43f0-b78f-5b6a7f0d5725",
   "metadata": {},
   "outputs": [],
   "source": [
    "train_tigers, test_tigers = data_split(0.1, data_tigers)\n",
    "train_dolphins, test_dolphins = data_split(0.1, data_dolphins)\n",
    "X_train = [*train_tigers, *train_dolphins]\n",
    "X_test = [*test_tigers, *test_dolphins]\n",
    "y_train = create_label(X_train, 0, 1)\n",
    "y_test = create_label(X_test, 0, 1)"
   ]
  },
  {
   "cell_type": "code",
   "execution_count": 5,
   "id": "ac21ba48-854b-412c-b777-52d21831d62d",
   "metadata": {},
   "outputs": [],
   "source": [
    "X_train = np.array(X_train)\n",
    "X_test = np.array(X_test)\n",
    "y_train = np.array(y_train)\n",
    "y_test = np.array(y_test)"
   ]
  },
  {
   "cell_type": "code",
   "execution_count": 13,
   "id": "14305833-2d40-4ad0-ab7c-d879e4ed5bee",
   "metadata": {},
   "outputs": [],
   "source": [
    "def sigmoid(x):\n",
    "    return 1/(1+np.exp(-x))\n",
    "\n",
    "class LogisticRegression():\n",
    "    \n",
    "    def __init__(self, lr = 0.001, iters = 1000):\n",
    "        self.lr = lr\n",
    "        self.iters = iters\n",
    "        self.w = None\n",
    "        self.b = None\n",
    "        \n",
    "    def fit(self, X, y):\n",
    "        n_samples, n_features = X.shape\n",
    "        self.w = np.zeros(n_features)\n",
    "        self.b = 0\n",
    "        \n",
    "        for i in range(self.iters):\n",
    "            preds = sigmoid(np.dot(X, self.w) + self.b)\n",
    "            \n",
    "            self.w = self.w - self.lr * (1/n_samples) * np.dot(X.T,(preds - y))\n",
    "            self.b = self.b - self.lr * (1/n_samples) * np.sum(preds - y)\n",
    "        \n",
    "    \n",
    "    def predict(self, X):\n",
    "        y_pred = sigmoid(np.dot(X, self.w) + self.b)\n",
    "        label_pred = [0 if y <= 0.5 else 1 for y in y_pred]\n",
    "        return label_pred\n",
    "    \n",
    "    def plot_sigmoid(self, X):\n",
    "        lin_preds = np.dot(X, self.w) + self.b\n",
    "        y_pred = sigmoid(lin_preds)\n",
    "        import seaborn as sns\n",
    "        sns.relplot(x = np.arange(1,len(y_pred)+1), y = np.sort(y_pred), kind = 'line')\n",
    "    \n",
    "    def score(self, y_pred, y_test):\n",
    "        return np.sum(y_pred == y_test) / len(y_test)"
   ]
  },
  {
   "cell_type": "code",
   "execution_count": 14,
   "id": "4c677a0a-febc-44eb-b477-5722c2823cdd",
   "metadata": {},
   "outputs": [
    {
     "name": "stdout",
     "output_type": "stream",
     "text": [
      "0.87\n"
     ]
    }
   ],
   "source": [
    "log = LogisticRegression(lr = 0.01, iters = 1000)\n",
    "log.fit(X_train, y_train)\n",
    "y_pred = log.predict(X_test)\n",
    "\n",
    "print(log.score(y_pred, y_test))"
   ]
  },
  {
   "cell_type": "code",
   "execution_count": 15,
   "id": "2010664f-b759-46ac-8f17-c8a493d4f078",
   "metadata": {},
   "outputs": [
    {
     "data": {
      "image/png": "[encoded data removed]",
      "text/plain": [
       "<Figure size 360x360 with 1 Axes>"
      ]
     },
     "metadata": {
      "needs_background": "light"
     },
     "output_type": "display_data"
    }
   ],
   "source": [
    "log.plot_sigmoid(X_test)"
   ]
  },
  {
   "cell_type": "code",
   "execution_count": 9,
   "id": "9f0ae055-d9e6-4803-b7e3-70843737342c",
   "metadata": {},
   "outputs": [],
   "source": [
    "n_iters = [250, 500, 750, 1000, 1250, 1500, 1750, 2000]\n",
    "loss = []\n",
    "\n",
    "for n in n_iters:\n",
    "    log = LogisticRegression(lr = 0.01, iters = n)\n",
    "    log.fit(X_train, y_train)\n",
    "    y_pred = log.predict(X_test)\n",
    "    loss.append(1 - log.score(y_pred, y_test))"
   ]
  },
  {
   "cell_type": "code",
   "execution_count": 10,
   "id": "a6c8a0c7-0e7e-49c7-9395-70e8d86d9c93",
   "metadata": {},
   "outputs": [
    {
     "data": {
      "text/plain": [
       "<seaborn.axisgrid.FacetGrid at 0x1e42b784430>"
      ]
     },
     "execution_count": 10,
     "metadata": {},
     "output_type": "execute_result"
    },
    {
     "data": {
      "image/png": "[encoded data removed]",
      "text/plain": [
       "<Figure size 360x360 with 1 Axes>"
      ]
     },
     "metadata": {
      "needs_background": "light"
     },
     "output_type": "display_data"
    }
   ],
   "source": [
    "import seaborn as sns\n",
    "g = sns.relplot(x = n_iters, y = loss, kind = 'line')\n",
    "g.fig.suptitle('Loss vs. # epoch', y = 0)\n",
    "g.set(xlabel = '# of iters', ylabel = 'loss')"
   ]
  },
  {
   "cell_type": "code",
   "execution_count": 11,
   "id": "124ea6a9-bf95-4222-b8f9-cd8eaed46773",
   "metadata": {},
   "outputs": [],
   "source": [
    "lrs = [0.001, 0.005, 0.01, 0.02, 0.025, 0.05, 0.075, 0.1]\n",
    "loss = []\n",
    "\n",
    "for lr in lrs:\n",
    "    log = LogisticRegression(lr = lr, iters = 1000)\n",
    "    log.fit(X_train, y_train)\n",
    "    y_pred = log.predict(X_test)\n",
    "    loss.append(1 - log.score(y_pred, y_test))"
   ]
  },
  {
   "cell_type": "code",
   "execution_count": 12,
   "id": "905e1541-9a8f-4408-baa9-1c15062a83eb",
   "metadata": {},
   "outputs": [
    {
     "data": {
      "text/plain": [
       "<seaborn.axisgrid.FacetGrid at 0x1e4253d0c70>"
      ]
     },
     "execution_count": 12,
     "metadata": {},
     "output_type": "execute_result"
    },
    {
     "data": {
      "image/png": "[encoded data removed]",
      "text/plain": [
       "<Figure size 360x360 with 1 Axes>"
      ]
     },
     "metadata": {
      "needs_background": "light"
     },
     "output_type": "display_data"
    }
   ],
   "source": [
    "import seaborn as sns\n",
    "g = sns.relplot(x = lrs, y = loss, kind = 'line')\n",
    "g.fig.suptitle('Loss vs. # epoch', y = 0)\n",
    "g.set(xlabel = 'learning rate', ylabel = 'loss')"
   ]
  }
 ],
 "metadata": {
  "kernelspec": {
   "display_name": "Python 3 (ipykernel)",
   "language": "python",
   "name": "python3"
  },
  "language_info": {
   "codemirror_mode": {
    "name": "ipython",
    "version": 3
   },
   "file_extension": ".py",
   "mimetype": "text/x-python",
   "name": "python",
   "nbconvert_exporter": "python",
   "pygments_lexer": "ipython3",
   "version": "3.9.7"
  }
 },
 "nbformat": 4,
 "nbformat_minor": 5
}
