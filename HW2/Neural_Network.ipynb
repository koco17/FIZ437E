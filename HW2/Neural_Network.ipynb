{
 "cells": [
  {
   "cell_type": "code",
   "execution_count": 1,
   "id": "d3b6c39f-a531-4ec1-9a6e-d2a2c0aad842",
   "metadata": {},
   "outputs": [],
   "source": [
    "import numpy as np\n",
    "import pandas as pd\n",
    "import matplotlib.pyplot as plt\n",
    "from matplotlib import image as mpimg\n",
    "from skimage.feature import hog\n",
    "import cv2, os, glob, math"
   ]
  },
  {
   "cell_type": "code",
   "execution_count": 2,
   "id": "0d119dbc-8012-4a65-ac11-daaf06f7ce9b",
   "metadata": {},
   "outputs": [],
   "source": [
    "def create_data(filename, px):\n",
    "    data = []\n",
    "    for jpg in glob.glob(\"images/\" + filename + \"/*.jpg\"):\n",
    "        img = np.array(mpimg.imread(jpg))\n",
    "        img = cv2.resize(img, (px, px))\n",
    "        fd = hog(img)\n",
    "        data.append(fd)\n",
    "        \n",
    "    return data\n",
    "\n",
    "def data_split(rate, array):\n",
    "    l = len(array)\n",
    "    n_train = math.floor((1-rate) * l)\n",
    "    train = array[:n_train]\n",
    "    test = array[n_train:]\n",
    "    \n",
    "    return train, test\n",
    "\n",
    "def create_label(array, label1, label2):\n",
    "    l = len(array)\n",
    "    new_array = []\n",
    "    for i in range(l):\n",
    "        if i < l/2:\n",
    "            new_array.append(label1)\n",
    "        else:\n",
    "            new_array.append(label2)\n",
    "    \n",
    "    return new_array"
   ]
  },
  {
   "cell_type": "code",
   "execution_count": 3,
   "id": "c8b7a16f-51ad-4363-97d2-693275eb633b",
   "metadata": {},
   "outputs": [],
   "source": [
    "data_tigers = create_data(\"tigers\", 64)[:500]\n",
    "data_dolphins = create_data(\"dolphins\", 64)[:500]"
   ]
  },
  {
   "cell_type": "code",
   "execution_count": 4,
   "id": "8df6b928-4156-43cf-9416-866e122cf58b",
   "metadata": {},
   "outputs": [],
   "source": [
    "train_tigers, test_tigers = data_split(0.1, data_tigers)\n",
    "train_dolphins, test_dolphins = data_split(0.1, data_dolphins)\n",
    "X_train = [*train_tigers, *train_dolphins]\n",
    "X_test = [*test_tigers, *test_dolphins]\n",
    "y_train = create_label(X_train, 0, 1)\n",
    "y_test = create_label(X_test, 0, 1)"
   ]
  },
  {
   "cell_type": "code",
   "execution_count": 5,
   "id": "127b5c3a-9435-4d8a-b5e1-4bebac4e908c",
   "metadata": {},
   "outputs": [],
   "source": [
    "X_train = np.array(X_train)\n",
    "X_test = np.array(X_test)\n",
    "y_train = np.array(y_train)\n",
    "y_test = np.array(y_test)"
   ]
  },
  {
   "cell_type": "code",
   "execution_count": 6,
   "id": "3bb9639e-c7c3-41cb-aa1a-6eb7022eae7e",
   "metadata": {},
   "outputs": [],
   "source": [
    "def sigmoid(x):\n",
    "    return 1/(1+np.exp(-x))\n",
    "\n",
    "class NN():\n",
    "    def __init__(self, lr = 0.001, iters = 1000):\n",
    "        self.lr = lr\n",
    "        self.iters = iters\n",
    "        self.w = None\n",
    "        self.b = None\n",
    "        \n",
    "    def fit(self, X, y):\n",
    "        n_samples, n_features = X.shape\n",
    "        self.w = np.zeros(n_features)\n",
    "        self.b = 0\n",
    "            \n",
    "        for i in range(self.iters): \n",
    "            preds = sigmoid(np.dot(X, self.w) + self.b)\n",
    "            \n",
    "            self.w = self.w - self.lr * (1/n_features) * np.dot(X.T, (preds-y))\n",
    "            self.b = self.b - self.lr * (1/n_features) * np.sum(preds-y)\n",
    "            \n",
    "    def predict(self, X):\n",
    "        preds = sigmoid(np.dot(X, self.w) + self.b)\n",
    "        y_pred = [1 if y > 0.5 else 0 for y in preds]\n",
    "\n",
    "        return y_pred\n",
    "    \n",
    "    def score(self, y_pred, y_test):\n",
    "        return np.sum(y_pred == y_test) / len(y_test)"
   ]
  },
  {
   "cell_type": "code",
   "execution_count": 7,
   "id": "b1c0559d-3566-4260-8ede-fab531598bbb",
   "metadata": {},
   "outputs": [],
   "source": [
    "n_iters = [1000, 1500, 2500, 5000, 7500, 10000, 12500, 15000]\n",
    "loss = []\n",
    "\n",
    "for n in n_iters:\n",
    "    nn = NN(lr = 0.0001, iters = n)\n",
    "    nn.fit(X_train, y_train)\n",
    "    y_pred = nn.predict(X_test)\n",
    "    loss.append(1 - nn.score(y_pred, y_test))"
   ]
  },
  {
   "cell_type": "code",
   "execution_count": 8,
   "id": "8276f235-5957-4538-b8a9-b6bda96aeed9",
   "metadata": {},
   "outputs": [
    {
     "data": {
      "text/plain": [
       "<seaborn.axisgrid.FacetGrid at 0x2a137616f10>"
      ]
     },
     "execution_count": 8,
     "metadata": {},
     "output_type": "execute_result"
    },
    {
     "data": {
      "image/png": "[encoded data removed]",
      "text/plain": [
       "<Figure size 360x360 with 1 Axes>"
      ]
     },
     "metadata": {
      "needs_background": "light"
     },
     "output_type": "display_data"
    }
   ],
   "source": [
    "import seaborn as sns\n",
    "g = sns.relplot(x = n_iters, y = loss, kind = 'line')\n",
    "g.fig.suptitle('Loss vs. # epoch', y = 0)\n",
    "g.set(xlabel = '# of iters', ylabel = 'loss')"
   ]
  },
  {
   "cell_type": "code",
   "execution_count": 9,
   "id": "0ee867e4-96bd-4019-9531-763c64c16edf",
   "metadata": {},
   "outputs": [],
   "source": [
    "lrs = [0.00001, 0.00005, 0.0001, 0.0002, 0.00025, 0.0005, 0.00075, 0.01]\n",
    "loss = []\n",
    "\n",
    "for lr in lrs:\n",
    "    nn = NN(lr = lr, iters = 10000)\n",
    "    nn.fit(X_train, y_train)\n",
    "    y_pred = nn.predict(X_test)\n",
    "    loss.append(1 - nn.score(y_pred, y_test))"
   ]
  },
  {
   "cell_type": "code",
   "execution_count": 10,
   "id": "235c1d79-9bec-41cc-b9a1-dd06683fb420",
   "metadata": {},
   "outputs": [
    {
     "data": {
      "text/plain": [
       "<seaborn.axisgrid.FacetGrid at 0x2a13afafd30>"
      ]
     },
     "execution_count": 10,
     "metadata": {},
     "output_type": "execute_result"
    },
    {
     "data": {
      "image/png": "[encoded data removed]",
      "text/plain": [
       "<Figure size 360x360 with 1 Axes>"
      ]
     },
     "metadata": {
      "needs_background": "light"
     },
     "output_type": "display_data"
    }
   ],
   "source": [
    "import seaborn as sns\n",
    "g = sns.relplot(x = lrs, y = loss, kind = 'line')\n",
    "g.fig.suptitle('Loss vs. # epoch', y = 0)\n",
    "g.set(xlabel = 'learning rate', ylabel = 'loss')"
   ]
  }
 ],
 "metadata": {
  "kernelspec": {
   "display_name": "Python 3 (ipykernel)",
   "language": "python",
   "name": "python3"
  },
  "language_info": {
   "codemirror_mode": {
    "name": "ipython",
    "version": 3
   },
   "file_extension": ".py",
   "mimetype": "text/x-python",
   "name": "python",
   "nbconvert_exporter": "python",
   "pygments_lexer": "ipython3",
   "version": "3.9.7"
  }
 },
 "nbformat": 4,
 "nbformat_minor": 5
}
