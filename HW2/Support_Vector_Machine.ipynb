{
 "cells": [
  {
   "cell_type": "code",
   "execution_count": 1,
   "id": "6b799718-f51c-4242-a514-d62c04b8c56d",
   "metadata": {},
   "outputs": [],
   "source": [
    "import numpy as np\n",
    "import pandas as pd\n",
    "import matplotlib.pyplot as plt\n",
    "from matplotlib import image as mpimg\n",
    "from skimage.feature import hog\n",
    "import cv2, os, glob, math"
   ]
  },
  {
   "cell_type": "code",
   "execution_count": 2,
   "id": "bf0db347-9eb0-4a40-9411-dd13cfc3df72",
   "metadata": {},
   "outputs": [],
   "source": [
    "def create_data(filename, px):\n",
    "    data = []\n",
    "    for jpg in glob.glob(\"images/\" + filename + \"/*.jpg\"):\n",
    "        img = np.array(mpimg.imread(jpg))\n",
    "        img = cv2.resize(img, (px, px))\n",
    "        fd = hog(img)\n",
    "        data.append(fd)\n",
    "        \n",
    "    return data\n",
    "\n",
    "def data_split(rate, array):\n",
    "    l = len(array)\n",
    "    n_train = math.floor((1-rate) * l)\n",
    "    train = array[:n_train]\n",
    "    test = array[n_train:]\n",
    "    \n",
    "    return train, test\n",
    "\n",
    "def create_label(array, label1, label2):\n",
    "    l = len(array)\n",
    "    new_array = []\n",
    "    for i in range(l):\n",
    "        if i < l/2:\n",
    "            new_array.append(label1)\n",
    "        else:\n",
    "            new_array.append(label2)\n",
    "    \n",
    "    return new_array"
   ]
  },
  {
   "cell_type": "code",
   "execution_count": 3,
   "id": "42fa70a9-0917-403a-8b06-c51f3fbb4d76",
   "metadata": {},
   "outputs": [],
   "source": [
    "data_tigers = create_data(\"tigers\", 64)[:500]\n",
    "data_dolphins = create_data(\"dolphins\", 64)[:500]"
   ]
  },
  {
   "cell_type": "code",
   "execution_count": 4,
   "id": "8ea7b5c1-4859-4fde-95a8-9aff18ba11ec",
   "metadata": {},
   "outputs": [],
   "source": [
    "train_tigers, test_tigers = data_split(0.1, data_tigers)\n",
    "train_dolphins, test_dolphins = data_split(0.1, data_dolphins)\n",
    "X_train = [*train_tigers, *train_dolphins]\n",
    "X_test = [*test_tigers, *test_dolphins]\n",
    "y_train = create_label(X_train, -1, 1)\n",
    "y_test = create_label(X_test, -1, 1)"
   ]
  },
  {
   "cell_type": "code",
   "execution_count": 5,
   "id": "2dbb00c6-18be-4bb3-8bab-c8e122bd12c3",
   "metadata": {},
   "outputs": [],
   "source": [
    "X_train = np.array(X_train)\n",
    "X_test = np.array(X_test)\n",
    "y_train = np.array(y_train)\n",
    "y_test = np.array(y_test)"
   ]
  },
  {
   "cell_type": "code",
   "execution_count": 6,
   "id": "56e59c2f-d62f-46b4-95bc-d4a60cdee154",
   "metadata": {},
   "outputs": [],
   "source": [
    "class SVM():\n",
    "    def __init__(self, lr = 0.0001, lambda_param = 0.01, n_iters = 1000):\n",
    "        self.lr = lr\n",
    "        self.lambda_param = lambda_param\n",
    "        self.n_iters = n_iters\n",
    "        self.w = None\n",
    "        self.b = None\n",
    "        \n",
    "    def fit(self, X, y):\n",
    "        n_samples, n_features = X.shape\n",
    "        y_ = np.where(y <= 0, -1, 1)\n",
    "        \n",
    "        self.w = np.zeros(n_features)\n",
    "        self.b = 0\n",
    "        \n",
    "        for _ in range(self.n_iters):\n",
    "            for idx, x_i in enumerate(X):\n",
    "                cond = y_[idx] * (np.dot(x_i, self.w) - self.b) >= 1\n",
    "                if cond:\n",
    "                    self.w = self.w - self.lr * 2 * self.lambda_param * self.w\n",
    "                else:\n",
    "                    self.w = self.w - self.lr * (2 * self.lambda_param * self.w - np.dot(x_i, y_[idx]))\n",
    "                    self.b = self.b - self.lr * y_[idx]\n",
    "                    \n",
    "    def predict(self, X):\n",
    "        approx = np.dot(X, self.w) - self.b\n",
    "        return np.sign(approx)\n",
    "    \n",
    "    def score(self, y_pred, y_test):\n",
    "        return np.sum(y_pred == y_test) / len(y_test)\n",
    "    "
   ]
  },
  {
   "cell_type": "code",
   "execution_count": 7,
   "id": "9c88162e-7e81-48c6-8b45-65bb672a1f52",
   "metadata": {},
   "outputs": [],
   "source": [
    "n_iters = [250, 500, 750, 1000, 1250, 1500, 1750, 2000]\n",
    "loss = []\n",
    "\n",
    "for n in n_iters:\n",
    "    svm = SVM(n_iters = n)\n",
    "    svm.fit(X_train, y_train)\n",
    "    y_pred = svm.predict(X_test)\n",
    "    loss.append(1 - svm.score(y_pred, y_test))"
   ]
  },
  {
   "cell_type": "code",
   "execution_count": 8,
   "id": "d37fb9d7-75ae-42db-a2c6-88712ea87697",
   "metadata": {},
   "outputs": [
    {
     "data": {
      "text/plain": [
       "<seaborn.axisgrid.FacetGrid at 0x1c1ad52ce80>"
      ]
     },
     "execution_count": 8,
     "metadata": {},
     "output_type": "execute_result"
    },
    {
     "data": {
      "image/png": "[encoded data removed]",
      "text/plain": [
       "<Figure size 360x360 with 1 Axes>"
      ]
     },
     "metadata": {
      "needs_background": "light"
     },
     "output_type": "display_data"
    }
   ],
   "source": [
    "import seaborn as sns\n",
    "g = sns.relplot(x = n_iters, y = loss, kind = 'line')\n",
    "g.fig.suptitle('Loss vs. # epoch', y = 0)\n",
    "g.set(xlabel = '#epoch', ylabel = 'loss')"
   ]
  }
 ],
 "metadata": {
  "kernelspec": {
   "display_name": "Python 3 (ipykernel)",
   "language": "python",
   "name": "python3"
  },
  "language_info": {
   "codemirror_mode": {
    "name": "ipython",
    "version": 3
   },
   "file_extension": ".py",
   "mimetype": "text/x-python",
   "name": "python",
   "nbconvert_exporter": "python",
   "pygments_lexer": "ipython3",
   "version": "3.9.7"
  }
 },
 "nbformat": 4,
 "nbformat_minor": 5
}
